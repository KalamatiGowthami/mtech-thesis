{
 "cells": [
  {
   "cell_type": "code",
   "execution_count": 33,
   "metadata": {},
   "outputs": [],
   "source": [
    "import numpy as np\n",
    "import librosa\n",
    "from tqdm import tqdm\n",
    "import pandas as pd\n",
    "import os\n",
    "import soundfile as sf\n",
    "from scipy.io import wavfile\n",
    "import parselmouth"
   ]
  },
  {
   "cell_type": "code",
   "execution_count": 60,
   "metadata": {},
   "outputs": [],
   "source": [
    "t_id = '002'\n",
    "split = 'test'"
   ]
  },
  {
   "cell_type": "code",
   "execution_count": 61,
   "metadata": {},
   "outputs": [],
   "source": [
    "### for 002\n",
    "\n",
    "audio_folder = f\"/home/sumitk/working_dir/raaga/{split}_{t_id}\"\n",
    "label_folder = f\"/home/sumitk/working_dir/raaga/label_{split}_{t_id}_new_copy\""
   ]
  },
  {
   "cell_type": "code",
   "execution_count": 62,
   "metadata": {},
   "outputs": [],
   "source": [
    "# x, sr = librosa.load('/home/sumitk/working_dir/raaga/rod_pb_data/train/audio/BHOPALI--1346_18.wav', sr = None)"
   ]
  },
  {
   "cell_type": "code",
   "execution_count": 63,
   "metadata": {},
   "outputs": [],
   "source": [
    "# x.shape, sr"
   ]
  },
  {
   "cell_type": "code",
   "execution_count": 64,
   "metadata": {},
   "outputs": [],
   "source": [
    "### PB\n",
    "\n",
    "# audio_folder = f'/home/sumitk/working_dir/raaga/sharah_surge/prasar_bharati/audio_files_vocals/{split}'\n",
    "# label_folder = f'/home/sumitk/working_dir/raaga/sharah_surge/prasar_bharati/labels/{split}'"
   ]
  },
  {
   "cell_type": "code",
   "execution_count": 65,
   "metadata": {},
   "outputs": [],
   "source": [
    "### combined data\n",
    "# audio_folder = f'/home/sumitk/working_dir/raaga/rod_pb_data/{split}/audio'\n",
    "# label_folder = f'/home/sumitk/working_dir/raaga/rod_pb_data/{split}/labels'"
   ]
  },
  {
   "cell_type": "code",
   "execution_count": 66,
   "metadata": {},
   "outputs": [],
   "source": [
    "# x, s = librosa.load('/home/sumitk/working_dir/raaga/sharah_surge/prasar_bharati/audio_files_vocals/Bhairav_vocals/13971-1_1.wav', sr=None)"
   ]
  },
  {
   "cell_type": "code",
   "execution_count": 67,
   "metadata": {},
   "outputs": [],
   "source": [
    "# audio_folder = f'/home/sumitk/working_dir/raaga/rod_pb_data/{split}/audio'\n",
    "# label_folder = f'/home/sumitk/working_dir/raaga/rod_pb_data/{split}/labels'"
   ]
  },
  {
   "cell_type": "code",
   "execution_count": null,
   "metadata": {},
   "outputs": [],
   "source": []
  },
  {
   "cell_type": "code",
   "execution_count": 68,
   "metadata": {},
   "outputs": [],
   "source": [
    "def wav2spec(wavefile, sampling_rate,f_max, win_length, time_step):\n",
    "    # Create a Parselmouth Sound object\n",
    "    sound = parselmouth.Sound(wavefile, sampling_frequency=sampling_rate)\n",
    "\n",
    "    # Create a spectrogram\n",
    "    spectrogram = sound.to_spectrogram(window_length=win_length,time_step=time_step, maximum_frequency=f_max)\n",
    "    return spectrogram"
   ]
  },
  {
   "cell_type": "code",
   "execution_count": 69,
   "metadata": {},
   "outputs": [],
   "source": [
    "def spec2chromagram(spectrogram, sampling_rate, n_fft, hop_size,win_length, n_chroma):\n",
    "    C = librosa.feature.chroma_stft(S=np.abs(spectrogram), sr=sampling_rate, n_fft = n_fft, hop_length = hop_size, win_length=win_length, n_chroma = n_chroma)\n",
    "    # C = C/np.max(C)\n",
    "    return C"
   ]
  },
  {
   "cell_type": "code",
   "execution_count": 70,
   "metadata": {},
   "outputs": [],
   "source": [
    "def wav2chromagram(wavefile, sampling_rate, n_fft, hop_size,win_length, n_chroma):\n",
    "    C = librosa.feature.chroma_stft(y=wavefile, sr=sampling_rate, n_fft = n_fft, hop_length = hop_size, win_length=win_length, n_chroma = n_chroma)\n",
    "    # C = C/np.max(C)\n",
    "    return C"
   ]
  },
  {
   "cell_type": "code",
   "execution_count": 71,
   "metadata": {},
   "outputs": [],
   "source": [
    "def _pad_spec(spec, Fs, hop_length, clip_duration):\n",
    "    T = int((clip_duration*Fs)/hop_length +1)\n",
    "    if(spec.shape[1]% T != 0):\n",
    "        spec = np.concatenate((spec, np.zeros((spec.shape[0], T- (spec.shape[1]% T)))), axis = 1)\n",
    "    return spec"
   ]
  },
  {
   "cell_type": "code",
   "execution_count": 72,
   "metadata": {},
   "outputs": [],
   "source": [
    "# def error_to_number(error_str):\n",
    "#     if(error_str == 'K' or error_str =='k'):\n",
    "#         error_id = 1\n",
    "#     elif(error_str == 'M' or error_str == 'Me'):\n",
    "#         error_id = 2\n",
    "#     elif(error_str == 'Sa' or error_str == 'SA'):\n",
    "#         error_id = 3\n",
    "#     elif(error_str == 'An' or error_str == 'AN'):\n",
    "#         error_id = 4\n",
    "#     elif(error_str == 'Mu' or error_str == 'MU'):\n",
    "#         error_id = 5\n",
    "#     elif(error_str == 'Kh' or error_str == 'KH'):\n",
    "#         error_id = 6\n",
    "#     elif(error_str == 'h' or error_str == 'H'):\n",
    "#         error_id = 7\n",
    "#     elif(error_str == 'G' or error_str == 'g'):\n",
    "#         error_id = 8\n",
    "#     else:\n",
    "#         error_id = 0\n",
    "#     return error_id\n"
   ]
  },
  {
   "cell_type": "code",
   "execution_count": 73,
   "metadata": {},
   "outputs": [],
   "source": [
    "def error_to_number(error_str):\n",
    "    if(error_str == 'K' or error_str =='k'):\n",
    "        error_id = 1\n",
    "    elif(error_str == 'M' or error_str == 'Me'):\n",
    "        error_id = 2\n",
    "    # elif(error_str == 'Sa' or error_str == 'SA'):\n",
    "    #     error_id = 3\n",
    "    elif(error_str == 'An' or error_str == 'AN'):\n",
    "        error_id = 3\n",
    "    elif(error_str == 'Mu' or error_str == 'MU'):\n",
    "        error_id = 4\n",
    "    elif(error_str == 'h' or error_str == 'H'):\n",
    "        error_id = 5\n",
    "    elif(error_str == 'G' or error_str == 'g'):\n",
    "        error_id = 6\n",
    "    # elif(error_str == 'KH' or error_str == 'Kh'):\n",
    "    #     error_id = 7\n",
    "    else:\n",
    "        error_id = 0\n",
    "    return error_id"
   ]
  },
  {
   "cell_type": "code",
   "execution_count": 74,
   "metadata": {},
   "outputs": [],
   "source": [
    "def save_files(files, clip_duration, Fs, hop_length, files_dir, file_id, file_name):\n",
    "    # L = int((clip_duration*Fs)/hop_length +1)\n",
    "    L = 568\n",
    "    # print('files shape: ',files.shape)\n",
    "    for q in range(0, int(files.shape[1]), L):\n",
    "# #             print(i,j)\n",
    "        on = int(q/56.8)\n",
    "        off = int((q+L)/56.8)\n",
    "        np.save(files_dir+file_name+'_'+str(on)+'_'+str(off),files[:,q:q+L])\n",
    "        # np.save(files_dir+file_name+t_id+'_'+str(file_id)+'_'+str(c), files[:,q:q+L])\n",
    "    return"
   ]
  },
  {
   "cell_type": "code",
   "execution_count": 75,
   "metadata": {},
   "outputs": [],
   "source": [
    "def save_gt(files, clip_duration, Fs, hop_length, files_dir, file_id, file_name):\n",
    "    # L = int((clip_duration*Fs)/hop_length +1)\n",
    "    L = 568\n",
    "    # if(len(files)% L != 0):\n",
    "    #     x = np.concatenate((files, np.zeros(L- (len(files)% L))))\n",
    "    # else:\n",
    "    #     x = files\n",
    "    for j in range(0, len(files), L):\n",
    "        on = int(j/56.8)\n",
    "        off = int((j+L)/56.8)\n",
    "        np.save(files_dir+file_name+'_'+str(on)+'_'+str(off),files[j:j+L])\n",
    "    return"
   ]
  },
  {
   "cell_type": "code",
   "execution_count": 76,
   "metadata": {},
   "outputs": [],
   "source": [
    "def save_audio_clips(files, clip_duration, Fs, files_dir, file_name):\n",
    "    L = int(Fs*clip_duration)\n",
    "    # if(len(files)%L != 0):\n",
    "    #     print('L: ',L, 'len(files): ',len(files))\n",
    "    #     zeros_to_pad = np.zeros(L - len(files))\n",
    "    #     files = np.concatenate((files, zeros_to_pad))\n",
    "    for j in range(0, len(files), L):\n",
    "        on = int(j/Fs)\n",
    "        off = int((j+L)/Fs)\n",
    "        np.save(files_dir+file_name+'_'+str(on)+'_'+str(off),files[j:j+L])\n",
    "    return"
   ]
  },
  {
   "cell_type": "code",
   "execution_count": null,
   "metadata": {},
   "outputs": [],
   "source": [
    "os.system(f'rm -rf ./raaga_chroma_data_{t_id}/{split}/')\n",
    "os.system(f'rm -rf ./raaga_audio_data_{t_id}/{split}/')"
   ]
  },
  {
   "cell_type": "code",
   "execution_count": null,
   "metadata": {},
   "outputs": [],
   "source": [
    "x_dir = f'./raaga_chroma_data_{t_id}/{split}/x/'           # save .npz files here\n",
    "os.system('mkdir -p %s'%x_dir)\n",
    "yd_dir = f'./raaga_chroma_data_{t_id}/{split}/yd/'         # save .npz files here\n",
    "os.system('mkdir -p %s'%yd_dir)"
   ]
  },
  {
   "cell_type": "code",
   "execution_count": null,
   "metadata": {},
   "outputs": [],
   "source": [
    "audio_dir = f'./raaga_audio_data_{t_id}/{split}/x/'           # save .npz files here\n",
    "os.system('mkdir -p %s'%audio_dir)\n",
    "audio_yd_dir = f'./raaga_audio_data_{t_id}/{split}/yd/'         # save .npz files here\n",
    "os.system('mkdir -p %s'%audio_yd_dir)"
   ]
  },
  {
   "cell_type": "code",
   "execution_count": 80,
   "metadata": {},
   "outputs": [],
   "source": [
    "Fs = 44100\n",
    "win_length = 0.035  #in sec\n",
    "n_fft = 4096\n",
    "time_step = win_length/2  # in seconds \n",
    "hop_length = int(time_step*Fs)\n",
    "clip_duration = 10  #in sec\n",
    "num_classes = 7\n",
    "n_chroma = 120\n",
    "max_freq = 5000"
   ]
  },
  {
   "cell_type": "code",
   "execution_count": 81,
   "metadata": {},
   "outputs": [],
   "source": [
    "# # Function to read labels from a .txt file\n",
    "def read_labels_from_file(file_path):\n",
    "    labels = []\n",
    "\n",
    "    with open(file_path, 'r') as file:\n",
    "        for line in file:\n",
    "            onset, offset, class_name = line.strip().split('\\t')\n",
    "            labels.append((float(onset), float(offset), class_name))\n",
    "\n",
    "    return labels"
   ]
  },
  {
   "cell_type": "code",
   "execution_count": 82,
   "metadata": {},
   "outputs": [],
   "source": [
    "# Fs = 44100\n",
    "# win_length = 0.035  #in sec\n",
    "# n_fft = 4096\n",
    "# time_step = win_length/2  # in seconds \n",
    "# hop_length = int(time_step*Fs)\n",
    "# clip_duration = 10  #in sec\n",
    "# num_classes = 7\n",
    "# n_chroma = 120\n",
    "# max_freq = 5000"
   ]
  },
  {
   "cell_type": "code",
   "execution_count": 83,
   "metadata": {},
   "outputs": [],
   "source": [
    "# x = np.load('/home/sumitk/working_dir/raaga/raaga_audio_data_002/test/x/Bhairav_2_Alaap Bhairav_0.0_10.0.npy', allow_pickle = True)\n",
    "# S = wav2spec(wavefile=x, sampling_rate=Fs,f_max=max_freq, win_length=win_length, time_step=time_step)\n",
    "# print(S.values.shape)\n",
    "# C = spec2chromagram(spectrogram=S.values, sampling_rate=Fs, n_fft=n_fft, hop_size=hop_length,win_length=win_length, n_chroma=n_chroma)\n",
    "# print(C.shape)"
   ]
  },
  {
   "cell_type": "code",
   "execution_count": 84,
   "metadata": {},
   "outputs": [],
   "source": [
    "def load_data(audio_folder_path, labels_folder_path):\n",
    "    label_files = os.listdir(labels_folder_path)\n",
    "    \n",
    "    # audio_lessons = os.listdir(audio_folder_path)\n",
    "    for i in tqdm(range(len(label_files))):\n",
    "            # print('checking: ',label_files[i])\n",
    "            label_file_path = os.path.join(labels_folder_path, label_files[i])\n",
    "            audio_file_path = os.path.join(audio_folder_path, label_files[i].replace('txt', 'wav'))\n",
    "            \n",
    "            audio_wav, sr =  librosa.load(audio_file_path, sr=Fs)\n",
    "            harmonic, _ = librosa.effects.hpss(audio_wav)\n",
    "            label = np.array(pd.read_csv(label_file_path, header=None, delimiter='\\t'))\n",
    "            # print(label)\n",
    "            # print('audio shape: ',audio_wav.shape)\n",
    "            save_audio_clips(files = audio_wav,\n",
    "                            clip_duration=10,\n",
    "                            Fs = sr, files_dir = audio_dir, \n",
    "                            file_name = label_files[i].split('.')[0])\n",
    "            try:\n",
    "                S = wav2spec(wavefile=harmonic, sampling_rate=sr, f_max=max_freq, win_length=win_length, time_step=time_step)\n",
    "                C = spec2chromagram(spectrogram=S, sampling_rate=sr, n_fft=n_fft, hop_size=hop_length, win_length=win_length, n_chroma=n_chroma)\n",
    "            \n",
    "                spec_padded = _pad_spec(spec = C, Fs = Fs, \n",
    "                                        hop_length = hop_length, clip_duration = clip_duration)\n",
    "                # print(spec_padded.shape)\n",
    "                # print(spec.shape)\n",
    "                # print(label_files[i])\n",
    "                gt = np.zeros(len(audio_wav))\n",
    "                yd = np.zeros(int(spec_padded.shape[1]))\n",
    "                for k in range(int(label.shape[0])):\n",
    "                    # print(label.shape)\n",
    "                    onset_time = label[k][0]\n",
    "                    offset_time = label[k][1]\n",
    "                    error = label[k][2]\n",
    "                    \n",
    "                    # print(error, type(error))\n",
    "                    # print(error)\n",
    "                    error_num = error_to_number(error)\n",
    "                    if(str(onset_time).count('.')>1):  #convert min to sec\n",
    "                        # print('enter onset')\n",
    "                        time_parts = onset_time.split('.')\n",
    "                        minutes = int(time_parts[0])\n",
    "                        seconds = float('.'.join(time_parts[1:]))\n",
    "                        onset_time = str((minutes * 60) + seconds)\n",
    "                    if(str(offset_time).count('.')>1):    #convert min to sec\n",
    "                        # print('enter offset')\n",
    "                        time_parts = offset_time.split('.')\n",
    "                        minutes = int(time_parts[0])\n",
    "                        seconds = float('.'.join(time_parts[1:]))\n",
    "                        offset_time = str((minutes * 60) + seconds)\n",
    "                    # print(onset, offset, error)\n",
    "                    # print(type(onset_time))\n",
    "                    onset = int((onset_time*sr)/hop_length + 1)\n",
    "                    offset = int((offset_time*sr)/hop_length + 1)\n",
    "                    onset_TD = int(onset_time*sr)\n",
    "                    offset_TD = int(offset_time*sr)\n",
    "                    # print(onset,offset)\n",
    "                    yd[onset:offset] = error_num\n",
    "                    gt[onset_TD:offset_TD] = error_num\n",
    "                    # print('label shape: ',gt.shape)\n",
    "                    # print('error: ',error_num)\n",
    "                    # yd_categorical = np.transpose(tf.keras.utils.to_categorical(yd, num_classes=num_classes, dtype='float32'))\n",
    "                    # print('spec_padded shape: ',spec_padded.shape)\n",
    "                    # print('yd shape: ',yd.shape)\n",
    "                    # print('lf: ',label_files[i].split('.'[0]))\n",
    "                    # save_audio_clips(files = gt,\n",
    "                    #             clip_duration=10,\n",
    "                    #             Fs = sr, files_dir = audio_yd_dir, \n",
    "                    #             file_name = label_files[i].split('.')[0])\n",
    "                    save_files(spec_padded,\n",
    "                                clip_duration=clip_duration, \n",
    "                                Fs=Fs, \n",
    "                                hop_length=hop_length,  \n",
    "                                files_dir= x_dir, file_id=i,\n",
    "                                file_name=label_files[i].split('.')[0])\n",
    "                    save_gt(yd,\n",
    "                                clip_duration=clip_duration, \n",
    "                                Fs=Fs, \n",
    "                                hop_length=hop_length,  \n",
    "                                files_dir= yd_dir, file_id=i,\n",
    "                                file_name=label_files[i].split('.')[0])\n",
    "                save_audio_clips(files = gt,\n",
    "                                clip_duration=10,\n",
    "                                Fs = sr, files_dir = audio_yd_dir, \n",
    "                                file_name = label_files[i].split('.')[0])\n",
    "                \n",
    "            except Exception as e:\n",
    "                print(f\"Error processing {label_files[i]}: {e}\")\n",
    "                continue\n",
    "                \n",
    "\n",
    "    return"
   ]
  },
  {
   "cell_type": "code",
   "execution_count": null,
   "metadata": {},
   "outputs": [],
   "source": [
    "load_data(audio_folder, label_folder)"
   ]
  },
  {
   "cell_type": "code",
   "execution_count": null,
   "metadata": {},
   "outputs": [],
   "source": [
    "x_dir"
   ]
  },
  {
   "cell_type": "code",
   "execution_count": 28,
   "metadata": {},
   "outputs": [],
   "source": [
    "# aud"
   ]
  },
  {
   "cell_type": "code",
   "execution_count": 29,
   "metadata": {},
   "outputs": [],
   "source": [
    "# len(os.listdir(f'./raaga_chroma_data_PB_{t_id}/{split}/x/')), len(os.listdir(f'./raaga_chroma_data_PB_{t_id}/{split}/yd/'))"
   ]
  },
  {
   "cell_type": "code",
   "execution_count": 30,
   "metadata": {},
   "outputs": [],
   "source": [
    "# import os\n",
    "# import shutil\n",
    "\n",
    "# # Define paths\n",
    "# train_folder = \"/home/sumitk/working_dir/raaga/train_001\"\n",
    "# labels_folder = \"/home/sumitk/working_dir/raaga/data/labels_train_and_test_001\"\n",
    "# output_folder = \"/home/sumitk/working_dir/raaga/train_labels_001\"\n",
    "\n",
    "# # Create output directory if it doesn't exist\n",
    "# os.makedirs(output_folder, exist_ok=True)\n",
    "\n",
    "# # Iterate over .wav files in train folder\n",
    "# for wav_file in os.listdir(train_folder):\n",
    "#     if wav_file.endswith(\".wav\"):\n",
    "#         # Get the file name without extension\n",
    "#         file_name = os.path.splitext(wav_file)[0]\n",
    "        \n",
    "#         # Find corresponding label file in labels folder\n",
    "#         label_file = file_name + \".txt\"\n",
    "#         label_path = os.path.join(labels_folder, label_file)\n",
    "        \n",
    "#         # Copy label file to output folder\n",
    "#         if os.path.exists(label_path):\n",
    "#             output_path = os.path.join(output_folder, label_file)\n",
    "#             shutil.copy(label_path, output_path)\n",
    "#             print(f\"Copied {label_file} to {output_folder}\")\n",
    "#         else:\n",
    "#             print(f\"No label file found for {wav_file}\")\n",
    "\n",
    "# print(\"Label copying complete!\")\n"
   ]
  },
  {
   "cell_type": "code",
   "execution_count": 31,
   "metadata": {},
   "outputs": [],
   "source": [
    "# !jupyter nbconvert --to script 'dataprep_without_overlap.ipynb'"
   ]
  },
  {
   "cell_type": "code",
   "execution_count": null,
   "metadata": {},
   "outputs": [],
   "source": []
  }
 ],
 "metadata": {
  "kernelspec": {
   "display_name": "tf214",
   "language": "python",
   "name": "python3"
  },
  "language_info": {
   "codemirror_mode": {
    "name": "ipython",
    "version": 3
   },
   "file_extension": ".py",
   "mimetype": "text/x-python",
   "name": "python",
   "nbconvert_exporter": "python",
   "pygments_lexer": "ipython3",
   "version": "3.10.0"
  }
 },
 "nbformat": 4,
 "nbformat_minor": 2
}
